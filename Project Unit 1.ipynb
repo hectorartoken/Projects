{
 "cells": [
  {
   "cell_type": "markdown",
   "metadata": {},
   "source": [
    "<H1>Compression Algorithm Methods:</H1>\n",
    "<H2>Run Length Encoding (RLE)</H2>\n",
    "<H3>Members:</H3>\n",
    "\n",
    "* Jesús Catzin Cetz \n",
    "* Hector Hernandez"
   ]
  },
  {
   "cell_type": "markdown",
   "metadata": {},
   "source": [
    "### General Introduction:\n",
    "\n",
    "Data compression has come to get an important role in our time as in the society and it has had in the beginning of the technology.\n",
    "Whether it is music, text, pictures these kinds of files are often compressed so that they can fit on your storage devices to stream from the internet. In a general term, it is the process of modifying, encoding or converting the bits structure of data in such a way that it consumes less space. And the main characteristics which this enables is the capacity of sending a data object or file quickly over a network or the interned, even optimizing physical storage resources. \n",
    "\n",
    "Data Comprehension is divided in **Lossless methods vs Lossy methods comprehension**, which in this case we will work with the Lossless methods, nevertheless we will give a brief description of each one. <br>\n",
    "\n",
    "1. **Lossless compression algorithms**: Retain all of the original data of the file, preserving its original quality precisely. \n",
    "\n",
    "2. **Lossy compression algorithms**: Sacrifice file quality in return for a smaller file size.\n",
    "\n",
    "For each type of comprehension data there exist techniques for each one, for example:\n",
    "\n",
    "* Lossless methods have: \n",
    "    * Arithmetic Coding\n",
    "    * Golomb Coding\n",
    "    * JPEG200\n",
    "    * HEVC\n",
    "    * Huffman\n",
    "    * Lempel-Ziv (With variations).\n",
    "    \n",
    "Meanwhile:\n",
    "* Lossy Methods have:\n",
    "    * JPEG\n",
    "    * HEIF\n",
    "    * BPG\n",
    "    * JPEG 2000\n",
    "    * JBIG2, etcetera.\n"
   ]
  },
  {
   "cell_type": "markdown",
   "metadata": {},
   "source": [
    "### Run Length Encoding (Lossless Method):\n",
    "\n",
    "The **Run length Encoding** or also known as **RLE** is a form of lossless data compression.<br> \n",
    "\n",
    "RLE is a very simple form which runs on sequences having same value occurring many consecutives times and it encode the sequence to store only a single vale and its count, and quickly compression algorithm to implement because the idea behind this algorithm is something so easy where is not need of complicate mathematic methods. There is not need of probability as the Huffman Tree Coding, Shannon-Fano Coding or Arithmetic Coding to compare some, there is not need of complex formulas to implement it. "
   ]
  },
  {
   "cell_type": "markdown",
   "metadata": {},
   "source": [
    "#### Methodology:\n",
    "\n",
    "1. **RLE** works by reducing the physical size of a repeating string of characters.<br>\n",
    "2. The repeating string is called a ***run***, which is typically encoded into two bytes.<br>\n",
    "3. The first byte represents the number of characters in the run and is called ***run count***.<br>\n",
    "4. The second byte is the value of the character in the run, which is in the range of 0 to 255, and is called run value. \n",
    "\n",
    "Important Notes: \n",
    "* In practice an encoded run may contain 1 to 128 or 256 characters; the run count usually contains as the numbers of characters minus one (a value in the range of 0 to 127 or 255). \n",
    "* Some of times the run value and the run count can be inverted depending how it is implemented, in this case we are using the first characters as the run count "
   ]
  },
  {
   "cell_type": "markdown",
   "metadata": {},
   "source": [
    "#### Encoding:\n",
    "Let’s suppose that we have the following string: \n",
    "\n",
    "* \"AAAAAAAADDDDDSSSSFFFFGGGSSSAAADDDSSDDGGGGGGGAAAAAaaaaaaaaaaa\"\n",
    "\n",
    "To begin with, we need to have clear that the Upper or Lowers letters are different, for that reason \"*A*\" is not the same as “*a*” and these values are considered different, which makes senses in order to respect how a string is writing.\n",
    "\n",
    "The first step if **identify** and **get the unique characters** in the whole string, for example in this case we have: \"*A*\", \"*D*\", \"*S*\", \"*F*\", \"*G*\" and \"*a*\". <br>\n",
    "The second step in this case as we said is only **count how many times a letter or character is repeated until a different character appear, even including the blink space**.<br>\n",
    "\n",
    "In this case we would have the following which we will represent as a tuple for convenience.<br>\n",
    "* (8,A), (5,D) ,(4,S) ,(4,F), (3,G), (3,S), (3,A), (3,D), (2,S), (2,D), (7,G), (5,A), (11,a).\n",
    "\n",
    "As we can see this is the amount of time that each character if repeated but there is an important fact that we must take in count.<br>\n",
    "As you can see in the string the character “*A*” **appears divided in tree parts in the whole string but is not take as one**.<br> \n",
    "The reason is that we **count the times that the character appears only if and only if they are successively**, which means that if I have **AADAA** this will be count separately.<br>\n",
    "So, this process is made in the whole string and in our case the encoding would be the following: \n",
    "* “8A5D4S4F3G3S3A3D2S2D7G5A11a”\n"
   ]
  },
  {
   "cell_type": "markdown",
   "metadata": {},
   "source": [
    "#### Decoding:\n",
    "\n",
    "Now, we have already seen how we encode the string, but the question is, how do we decode the compression? \n",
    "\n",
    "As you can imagine the process if also easy to do, in this case we only need to do the follow.<br>\n",
    "When we have the encoding string as it is showed:\n",
    "* “8A5D4S4F3G3S3A3D2S2D7G5A11a”\n",
    "\n",
    "Now, we only need to write the character the amount of time that the number in the left is showing and that’s it, when we have already written the first, we only need to iterate or go in the next number. <br>\n",
    "Taking the example, we have “**8A**” so it would be “**AAAAAAAA**”, after that we go to the “**5D**” which would be “**DDDDD**” and so on until reach the last element but joining each one, so at the end we would have the following output: \n",
    "* “AAAAAAAADDDDDSSSSFFFFGGGSSSAAADDDSSDDGGGGGGGAAAAAaaaaaaaaaaa”\n",
    "\n",
    "Which is the original string."
   ]
  },
  {
   "cell_type": "markdown",
   "metadata": {},
   "source": [
    "#### Advantages and Disadvantages:\n",
    "\n",
    "As each compression method this method not always will work fine for all cases and can generate a **Negative Compression** that is when we have a bigger value or weight in the file than the original and consequently it consumes more storage than the original. \n",
    "\n",
    "\n",
    "\n",
    "This is one example, If we have the following string:\n",
    "* “AABBAABACBCDABABAF” \n",
    "\n",
    "Let's follow the same process, now in this case we have 5 unique values which are:\n",
    "* A, B, C, D and F. \n",
    "If we repeat the process, we got the following:\n",
    "* “2A2B2A1B1A1C1B1C1D1A1B1A1B1A1F” \n",
    "\n",
    "That as we can see have a bigger weight than the original.\n",
    "\n",
    "### Results\n",
    "\n",
    "For this let’s compare the first example with the second to demonstrate it in a practical way computing the bytes.\n",
    "\n",
    "* Example 1:\n",
    "    * Original: “AAAAAAAADDDDDSSSSFFFFGGGSSSAAADDDSSDDGGGGGGGAAAAAaaaaaaaaaaa”\n",
    "    * Total Size using ASCII: $\\frac{60*8}{8}$, so we would need 60 bytes to storage it.\n",
    "    * Total Size using UNICODE: $\\frac{60*16}{8}$, so we would need 120 bytes to storage it\n",
    "    * Encoding: “8A5D4S4F3G3S3A3D2S2D7G5A11a”\n",
    "    * Total Size using ASCII: $\\frac{27*8}{8}$, so we would need 27 bytes to storage it.\n",
    "    * Total Size using UNICODE: $\\frac{27*16}{8}$, so we would need 54 bytes to storage it.\n",
    "    * Original: 60 bytes vs Compression: 27 bytes\n",
    "    \n",
    "As we can see using ASCII or UNICODE the number of bytes it’s reduced more than the middle of the total size, so we got a great compression, but it’s not the same case in the example 2.\n",
    "\n",
    "* Example 2:\n",
    "    * Original: \"AABBAABACBCDABABAF\"\n",
    "    * Total Size using ASCII: $\\frac{18*8}{8}$, so we would need 18 bytes to storage it.\n",
    "    * Total Size using UNICODE: $\\frac{18*16}{8}$, so we would need 36 bytes to storage it\n",
    "    * Encoding: “2A2B2A1B1A1C1B1C1D1A1B1A1B1A1F”\n",
    "    * Total Size using ASCII: $\\frac{30*8}{8}$, so we would need 30 bytes to storage it.\n",
    "    * Total Size using UNICODE: $\\frac{30*16}{8}$, so we would need 60 bytes to storage it \n",
    "    * Original: 18 bytes vs Compression: 30 bytes.\n",
    "\n",
    "As we can see in this case using ASCII or UNICODE the number of bytes is even bigger than the original, and it is not reducing the weight, but it is increasing, so, in this case it doesn’t work fine.\n",
    "\n",
    "The RLE has each compression method has advantages and disadvantages and according to this as each method it has best case, average cases and worst case.<br>\n",
    "We have already some of these case in the first two examples.\n",
    "\n",
    "**Best Case**:<br>\n",
    "The best case would be when we have one single type of character or numbers which is repeated a lot of times, for example:\n",
    "* “AAAAAAAAAAAAAAAA” where its compression would be \"16A\".\n",
    "\n",
    "The reason is that as only exist one unique character the compression will optimize at least more than 80 percent of the size and won’t be need of use more bytes than when exist different characters.\n",
    "\n",
    "**Average Case**:<br>\n",
    "The average case in this case can be compared when we have a string where the repetitions are approximately equal for each one with the possibility to compress approximately 50% or usually less than it of the total size, for example having the following string: \n",
    "* AAAABBBBDDDDAAASSDDAAGG where the compression would be “4A4B4D3A2S2D2A2G” which as we can see the compression is less than the 50%. \n",
    "\n",
    "**Worst Case**.<br>\n",
    "The worst case exist (and was the second example demonstrated) when we have a few repetitions of the characters and as a consequence the size won’t reduce but it will increase, for example having: \n",
    "* “ASDFASDFASDFA” in this case we would have “1A1S1D1F1A1S1D1F1A1S1D1F1A” which is actually bigger than the original. \n"
   ]
  },
  {
   "cell_type": "markdown",
   "metadata": {},
   "source": [
    "#### Some Important Points (Summary):\n",
    "With all of this we can conclude the following main points in order to know when used RLE.\n",
    "\n",
    "* If we have a string where the words are successively repeated many times it’s a good option used RLE. \n",
    "* If we have repetitions approximately equals or at least there exist some character successively repeated we can use RLE, nevertheless it could compress less than 50% of the file. \n",
    "* If we have a string where characters are not successively repeated is not a good option use RLE, because it will increase (complicate) the size of the file which is what we won’t want. \n",
    "* RLE can be also used to compress numbers, nevertheless, is not suggested use it because when we want to decode the encoding it’s likely to fail because the machine won’t know which values are for the count characters and which belong to the number encode.\n",
    "* RLE is also used not only for strings, but also for many types of pictures, for example for black and white pictures it is a good option to compress it but not always will compress as we expect and that is for the limitations that RLE has. When RLE is used with Pictures, usually needs to work with other compression algorithms. \n"
   ]
  },
  {
   "cell_type": "markdown",
   "metadata": {},
   "source": [
    "#### Some Variations: \n",
    "There are a few variants of run-length encoding wich usually is applied in images.\n",
    "\n",
    "Image data is normally run-length encoded in a sequential process that treats the image data as a 1D stream, rather than as a 2D map of data. \n",
    "\n",
    "In sequential processing, a bitmap is encoded starting at the upper left corner and proceeding from left to right across each scan line (the X axis) to the bottom right corner of the bitmap. \n",
    "\n",
    "But alternative RLE schemes can also be written to encode data down the length of a bitmap (the Y axis) along the columns, to encode a bitmap into 2D tiles, or even to encode pixels on a diagonal in a zig-zag fashion. Odd RLE variants such as this last one might be used in highly specialized applications but are usually quite rare.\n",
    "\n",
    "Another seldom-encountered RLE variant is a lossy run-length encoding algorithm. RLE algorithms are normally lossless in their operation. However, discarding data during the encoding process, usually by zeroing out one or two least significant bits in each pixel, can increase compression ratios without adversely affecting the appearance of very complex images. This RLE variant works well only with real-world images that contain many subtle variations in pixel values.\n",
    "\n",
    "And there exist more variations. "
   ]
  },
  {
   "cell_type": "markdown",
   "metadata": {},
   "source": [
    "### Demo\n",
    "\n",
    "Let's start with the function `rle_encode` wich does the part of counting the characters and then converts it into a string."
   ]
  },
  {
   "cell_type": "code",
   "execution_count": null,
   "metadata": {},
   "outputs": [],
   "source": [
    "def rle_encode(data):\n",
    "    list_encode = []\n",
    "    data = str(data)\n",
    "    encoding = ''\n",
    "    prev_char = ''\n",
    "    count = 1\n",
    "\n",
    "    if not data: return ''\n",
    "    \n",
    "    for char in data:\n",
    "        # If the prev and current characters\n",
    "        # don't match...\n",
    "        if char != prev_char:\n",
    "            # ...then add the count and character\n",
    "            # to our encoding\n",
    "            if prev_char:\n",
    "                list_encode.append((str(count) , prev_char))\n",
    "                encoding += str(count) + prev_char\n",
    "            count = 1\n",
    "            prev_char = char\n",
    "        else:\n",
    "            # Or increment our counter\n",
    "            # if the characters do match\n",
    "            count += 1\n",
    "    else:\n",
    "        # Finish off the encoding\n",
    "        encoding += str(count) + prev_char\n",
    "        list_encode.append((str(count) , prev_char))\n",
    "        print(\"The enconding is {0}, \\nThe storage with ASCII is {1} bytes, \\nThe storage with UNICODE is {2} bytes.\".format(encoding, len(encoding), len(encoding)*2))\n",
    "        return encoding, list_encode"
   ]
  },
  {
   "cell_type": "code",
   "execution_count": 3,
   "metadata": {},
   "outputs": [
    {
     "name": "stdout",
     "output_type": "stream",
     "text": [
      "The enconding is 8A5D4S4F3G3S3A3D2S2D7G5A11a, \n",
      "The storage with ASCII is 27 bytes, \n",
      "The storage with UNICODE is 54 bytes.\n"
     ]
    },
    {
     "data": {
      "text/plain": [
       "('8A5D4S4F3G3S3A3D2S2D7G5A11a',\n",
       " [('8', 'A'),\n",
       "  ('5', 'D'),\n",
       "  ('4', 'S'),\n",
       "  ('4', 'F'),\n",
       "  ('3', 'G'),\n",
       "  ('3', 'S'),\n",
       "  ('3', 'A'),\n",
       "  ('3', 'D'),\n",
       "  ('2', 'S'),\n",
       "  ('2', 'D'),\n",
       "  ('7', 'G'),\n",
       "  ('5', 'A'),\n",
       "  ('11', 'a')])"
      ]
     },
     "execution_count": 3,
     "metadata": {},
     "output_type": "execute_result"
    }
   ],
   "source": [
    "data= \"AAAAAAAADDDDDSSSSFFFFGGGSSSAAADDDSSDDGGGGGGGAAAAAaaaaaaaaaaa\"\n",
    "rle_encode(data)"
   ]
  },
  {
   "cell_type": "code",
   "execution_count": 4,
   "metadata": {},
   "outputs": [
    {
     "name": "stdout",
     "output_type": "stream",
     "text": [
      "The enconding is 17485526829, \n",
      "The storage with ASCII is 11 bytes, \n",
      "The storage with UNICODE is 22 bytes.\n"
     ]
    },
    {
     "data": {
      "text/plain": [
       "('17485526829', [('17', '4'), ('8', '5'), ('5', '2'), ('6', '8'), ('2', '9')])"
      ]
     },
     "execution_count": 4,
     "metadata": {},
     "output_type": "execute_result"
    }
   ],
   "source": [
    "data2 = \"44444444444444444555555552222288888899\"\n",
    "rle_encode(data2)"
   ]
  },
  {
   "cell_type": "code",
   "execution_count": 9,
   "metadata": {},
   "outputs": [
    {
     "name": "stdout",
     "output_type": "stream",
     "text": [
      "The enconding is 52545y5p426h, \n",
      "The storage with ASCII is 12 bytes, \n",
      "The storage with UNICODE is 24 bytes.\n"
     ]
    },
    {
     "data": {
      "text/plain": [
       "('52545y5p426h',\n",
       " [('5', '2'), ('5', '4'), ('5', 'y'), ('5', 'p'), ('4', '2'), ('6', 'h')])"
      ]
     },
     "execution_count": 9,
     "metadata": {},
     "output_type": "execute_result"
    }
   ],
   "source": [
    "data3 = \"2222244444yyyyyppppp2222hhhhhh\"\n",
    "rle_encode(data3)"
   ]
  },
  {
   "cell_type": "code",
   "execution_count": 11,
   "metadata": {},
   "outputs": [
    {
     "name": "stdout",
     "output_type": "stream",
     "text": [
      "The enconding is 392420141610391418141118111539121517241815, \n",
      "The storage with ASCII is 42 bytes, \n",
      "The storage with UNICODE is 84 bytes.\n"
     ]
    },
    {
     "data": {
      "text/plain": [
       "('392420141610391418141118111539121517241815',\n",
       " [('3', '9'),\n",
       "  ('2', '4'),\n",
       "  ('2', '0'),\n",
       "  ('1', '4'),\n",
       "  ('1', '6'),\n",
       "  ('1', '0'),\n",
       "  ('3', '9'),\n",
       "  ('1', '4'),\n",
       "  ('1', '8'),\n",
       "  ('1', '4'),\n",
       "  ('1', '1'),\n",
       "  ('1', '8'),\n",
       "  ('1', '1'),\n",
       "  ('1', '5'),\n",
       "  ('3', '9'),\n",
       "  ('1', '2'),\n",
       "  ('1', '5'),\n",
       "  ('1', '7'),\n",
       "  ('2', '4'),\n",
       "  ('1', '8'),\n",
       "  ('1', '5')])"
      ]
     },
     "execution_count": 11,
     "metadata": {},
     "output_type": "execute_result"
    }
   ],
   "source": [
    "data4 = \"999440046099948418159992574485\"\n",
    "rle_encode(data4)"
   ]
  },
  {
   "cell_type": "markdown",
   "metadata": {},
   "source": [
    "The function `rle_decode` does the decode."
   ]
  },
  {
   "cell_type": "code",
   "execution_count": 5,
   "metadata": {},
   "outputs": [],
   "source": [
    "def rle_decode(data):\n",
    "    decode = ''\n",
    "    count = ''\n",
    "    for char in data:\n",
    "        # If the character is numerical...\n",
    "        if char.isdigit():\n",
    "            # ...append it to our count\n",
    "            count += char\n",
    "        else:\n",
    "            # Otherwise we've seen a non-numerical\n",
    "            # character and need to expand it for\n",
    "            # the decoding\n",
    "            decode += char * int(count)\n",
    "            count = ''\n",
    "    print(\"The deconding is {0}, \\nThe storage with ASCII is {1} bytes, \\nThe storage with UNICODE is {2} bytes.\".format(decode, len(decode), len(decode)*2))"
   ]
  },
  {
   "cell_type": "code",
   "execution_count": 7,
   "metadata": {},
   "outputs": [
    {
     "name": "stdout",
     "output_type": "stream",
     "text": [
      "The deconding is AAAAAAAADDDDDSSSSFFFFGGGSSSAAADDDSSDDGGGGGGGAAAAAaaaaaaaaaaa, \n",
      "The storage with ASCII is 60 bytes, \n",
      "The storage with UNICODE is 120 bytes.\n"
     ]
    }
   ],
   "source": [
    "data = \"8A5D4S4F3G3S3A3D2S2D7G5A11a\"\n",
    "rle_decode(data)"
   ]
  },
  {
   "cell_type": "markdown",
   "metadata": {},
   "source": [
    "To decode the numbers or numbers with characters we need the second value returned by the rle_encode function and the next function."
   ]
  },
  {
   "cell_type": "code",
   "execution_count": 6,
   "metadata": {},
   "outputs": [],
   "source": [
    "def rle_decode_numbers(list_encode):\n",
    "    decode = \"\"\n",
    "    for times, number in list_encode:\n",
    "        times = int(times)\n",
    "        decode += number*times\n",
    "    print(\"The deconding is {0}, \\nThe storage with ASCII is {1} bytes, \\nThe storage with UNICODE is {2} bytes.\".format(decode, len(decode), len(decode)*2))"
   ]
  },
  {
   "cell_type": "code",
   "execution_count": 8,
   "metadata": {},
   "outputs": [
    {
     "name": "stdout",
     "output_type": "stream",
     "text": [
      "The enconding is 17485526829, \n",
      "The storage with ASCII is 11 bytes, \n",
      "The storage with UNICODE is 22 bytes.\n",
      "The deconding is 44444444444444444555555552222288888899, \n",
      "The storage with ASCII is 38 bytes, \n",
      "The storage with UNICODE is 76 bytes.\n"
     ]
    }
   ],
   "source": [
    "data2 = \"44444444444444444555555552222288888899\"\n",
    "data2_encode = rle_encode(data2)[1]\n",
    "rle_decode_numbers(data2_encode)"
   ]
  },
  {
   "cell_type": "code",
   "execution_count": 10,
   "metadata": {},
   "outputs": [
    {
     "name": "stdout",
     "output_type": "stream",
     "text": [
      "The enconding is 52545y5p426h, \n",
      "The storage with ASCII is 12 bytes, \n",
      "The storage with UNICODE is 24 bytes.\n",
      "The deconding is 2222244444yyyyyppppp2222hhhhhh, \n",
      "The storage with ASCII is 30 bytes, \n",
      "The storage with UNICODE is 60 bytes.\n"
     ]
    }
   ],
   "source": [
    "data3 = \"2222244444yyyyyppppp2222hhhhhh\"\n",
    "rle_decode_numbers(rle_encode(data3)[1])"
   ]
  },
  {
   "cell_type": "code",
   "execution_count": 12,
   "metadata": {},
   "outputs": [
    {
     "name": "stdout",
     "output_type": "stream",
     "text": [
      "The enconding is 392420141610391418141118111539121517241815, \n",
      "The storage with ASCII is 42 bytes, \n",
      "The storage with UNICODE is 84 bytes.\n",
      "The deconding is 999440046099948418159992574485, \n",
      "The storage with ASCII is 30 bytes, \n",
      "The storage with UNICODE is 60 bytes.\n"
     ]
    }
   ],
   "source": [
    "data4 = \"999440046099948418159992574485\"\n",
    "rle_decode_numbers(rle_encode(data4)[1])"
   ]
  },
  {
   "cell_type": "markdown",
   "metadata": {},
   "source": [
    "### Conclusion\n",
    "\n",
    "In this report we have seen the performance of Run Length Encoding (RLE) which helps us reduce the size of an array so that it is compressed faster, but there are some disadvantages with this method for when we have a string with different characters, seen earlier in the report, which shows us how it enlarges the byte size when decoding the string.\n",
    "\n",
    "Now, how does this method influence the field of data science? This method helps to reduce the storage of data, allows to transmit the information faster than using the original file with higher number of bytes. Interestingly, the method reduces the cost money to save the data in some device, which allows to compress the data without losing any information, allowing to read it when necessary. Another benefit is that the method allows you to save time when processing or working with data, and also includes transferring it to another location when we make requests or more. Finally, the method helps in efficiency, to compress the weight of images that can be used as reports or general visualizations (actually one example is matplolib which use data compression methods as the RLE) and for data processing and data architecture."
   ]
  },
  {
   "cell_type": "markdown",
   "metadata": {},
   "source": [
    "### References\n",
    "\n",
    "https://www2.hawaii.edu/~esb/1997fall.ics651/oct31.html\n",
    "\n",
    "https://www.techopedia.com/definition/884/data-compression\n",
    "\n",
    "https://medium.com/@sapwik_/a-beginners-guide-to-data-compression-43ff38c7eceb\n",
    "\n",
    "https://www.ukessays.com/essays/computer-science/types-of-data-compression-computer-science-essay.php \n",
    "\n",
    "https://en.wikipedia.org/wiki/Lossy_compression\n",
    "\n",
    "https://www.britannica.com/technology/data-compression#ref19128\n",
    "\n",
    "https://www.geeksforgeeks.org/run-length-encoding/\n",
    "\n",
    "https://www.geeksforgeeks.org/run-length-encoding-python/?ref=rp\n",
    "\n",
    "https://en.wikipedia.org/wiki/Run-length_encoding"
   ]
  },
  {
   "cell_type": "code",
   "execution_count": null,
   "metadata": {},
   "outputs": [],
   "source": []
  }
 ],
 "metadata": {
  "kernelspec": {
   "display_name": "Python 3",
   "language": "python",
   "name": "python3"
  },
  "language_info": {
   "codemirror_mode": {
    "name": "ipython",
    "version": 3
   },
   "file_extension": ".py",
   "mimetype": "text/x-python",
   "name": "python",
   "nbconvert_exporter": "python",
   "pygments_lexer": "ipython3",
   "version": "3.7.3"
  }
 },
 "nbformat": 4,
 "nbformat_minor": 4
}
